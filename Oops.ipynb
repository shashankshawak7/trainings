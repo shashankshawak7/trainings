{
 "cells": [
  {
   "cell_type": "code",
   "execution_count": 1,
   "metadata": {},
   "outputs": [],
   "source": [
    "class human:\n",
    "    def __init__(self):\n",
    "        self.breathing='Oxygen'\n",
    "        self.legs=2\n",
    "        self.hands=1\n",
    "        self.alive=True\n",
    "        self.emotions=True"
   ]
  },
  {
   "cell_type": "code",
   "execution_count": 16,
   "metadata": {},
   "outputs": [],
   "source": [
    "class Male(human):\n",
    "    def __init__(self):\n",
    "        human.__init__(self)\n",
    "        self.Meight=6\n",
    "        self.Mody='Tough'\n",
    "        self.Mender='M'\n",
    "        self.Meard=True\n",
    "    def speak(lang,country):\n",
    "        self.language=lang\n",
    "        self.country=country"
   ]
  },
  {
   "cell_type": "code",
   "execution_count": 17,
   "metadata": {},
   "outputs": [],
   "source": [
    "class Female(human):\n",
    "    def __init__(self):\n",
    "        human.__init__(self)\n",
    "        self.Feight=5\n",
    "        self.Fody='Soft'\n",
    "        self.Fender='F'\n",
    "        self.Feard=False\n",
    "    def speak(self,lang,country):\n",
    "        self.language=lang\n",
    "        self.country=country"
   ]
  },
  {
   "cell_type": "code",
   "execution_count": 37,
   "metadata": {},
   "outputs": [],
   "source": [
    "class Child(Male,Female):\n",
    "    def __init__(self):\n",
    "        Male.__init__(self)\n",
    "        Female.__init__(self)\n",
    "       \n",
    "        self.Cheight=6\n",
    "        self.Cbeard=self.Feard\n",
    "    def __gender(self):\n",
    "        if self.Cheight>=6:\n",
    "            self.Cgenger='M'\n",
    "        else:\n",
    "            self.Cgenger='F'\n",
    "    def shawak(self):\n",
    "        Child.__gender(self)"
   ]
  },
  {
   "cell_type": "code",
   "execution_count": 38,
   "metadata": {},
   "outputs": [],
   "source": [
    "mohan=Child()"
   ]
  },
  {
   "cell_type": "code",
   "execution_count": 39,
   "metadata": {},
   "outputs": [],
   "source": [
    "mohan.shawak()"
   ]
  },
  {
   "cell_type": "code",
   "execution_count": 40,
   "metadata": {},
   "outputs": [
    {
     "data": {
      "text/plain": [
       "'M'"
      ]
     },
     "execution_count": 40,
     "metadata": {},
     "output_type": "execute_result"
    }
   ],
   "source": [
    "mohan.Cgenger"
   ]
  },
  {
   "cell_type": "code",
   "execution_count": null,
   "metadata": {},
   "outputs": [],
   "source": []
  },
  {
   "cell_type": "code",
   "execution_count": null,
   "metadata": {},
   "outputs": [],
   "source": []
  },
  {
   "cell_type": "code",
   "execution_count": null,
   "metadata": {},
   "outputs": [],
   "source": []
  }
 ],
 "metadata": {
  "kernelspec": {
   "display_name": "Python 3",
   "language": "python",
   "name": "python3"
  },
  "language_info": {
   "codemirror_mode": {
    "name": "ipython",
    "version": 3
   },
   "file_extension": ".py",
   "mimetype": "text/x-python",
   "name": "python",
   "nbconvert_exporter": "python",
   "pygments_lexer": "ipython3",
   "version": "3.6.8"
  }
 },
 "nbformat": 4,
 "nbformat_minor": 2
}
