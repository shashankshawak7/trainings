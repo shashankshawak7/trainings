{
 "cells": [
  {
   "cell_type": "code",
   "execution_count": 1,
   "metadata": {},
   "outputs": [],
   "source": [
    "class human:\n",
    "    def __init__(self,name):\n",
    "        self.name=name\n",
    "        self.vourous='omnivoroaus'\n",
    "        \n",
    "    def teacher(self,language):\n",
    "        self.sound=language\n",
    "        print('human '+self.name +'   speaks '+self.sound)\n",
    "        return None\n",
    "    def choices(self,choice):\n",
    "        self.subject=choice\n",
    "        self.exam=choice\n",
    "        return None\n",
    "    "
   ]
  },
  {
   "cell_type": "code",
   "execution_count": 2,
   "metadata": {},
   "outputs": [],
   "source": [
    "class father(human):\n",
    "    def __init__(self,name,color):\n",
    "        self.name=name\n",
    "        self.gender='m'\n",
    "        self.color=color\n",
    "        human.__init__(self,self.name)\n",
    "        pass"
   ]
  },
  {
   "cell_type": "code",
   "execution_count": 3,
   "metadata": {},
   "outputs": [],
   "source": [
    "class mother(human):\n",
    "        def __init__(self,name,color):\n",
    "            self.name=name\n",
    "            self.gender='f'\n",
    "            self.color=color\n",
    "            human.__init__(self,self.name)\n",
    "            pass\n",
    "    "
   ]
  },
  {
   "cell_type": "code",
   "execution_count": 4,
   "metadata": {},
   "outputs": [],
   "source": [
    "class child(father,mother):\n",
    "    def __init__(self,fathername,fathercolor,mothername,mothercolor,name,gender):\n",
    "        self.fathername=fathername\n",
    "        self.fathercolor=fathercolor\n",
    "        self.mothername=mothername\n",
    "        self.mothercolor=mothercolor\n",
    "        father.__init__(self,self.fathername,self.fathercolor)\n",
    "        mother.__init__(self,self.mothername,self.mothercolor)\n",
    "        self.name=name\n",
    "        self.gender=gender\n",
    "        \n",
    "    def colordecide(self):\n",
    "        if self.fathercolor=='w' and self.mothercolor=='w':\n",
    "            self.color='w'\n",
    "        return None"
   ]
  },
  {
   "cell_type": "code",
   "execution_count": 5,
   "metadata": {},
   "outputs": [],
   "source": [
    "sandeep=child('mukesh','w','namrata','w','sandeep','m')"
   ]
  },
  {
   "cell_type": "code",
   "execution_count": 6,
   "metadata": {},
   "outputs": [],
   "source": [
    "sandeep.colordecide()"
   ]
  },
  {
   "cell_type": "code",
   "execution_count": 7,
   "metadata": {},
   "outputs": [
    {
     "data": {
      "text/plain": [
       "'w'"
      ]
     },
     "execution_count": 7,
     "metadata": {},
     "output_type": "execute_result"
    }
   ],
   "source": [
    "sandeep.color"
   ]
  },
  {
   "cell_type": "code",
   "execution_count": null,
   "metadata": {},
   "outputs": [],
   "source": []
  },
  {
   "cell_type": "code",
   "execution_count": null,
   "metadata": {},
   "outputs": [],
   "source": []
  }
 ],
 "metadata": {
  "kernelspec": {
   "display_name": "Python 3",
   "language": "python",
   "name": "python3"
  },
  "language_info": {
   "codemirror_mode": {
    "name": "ipython",
    "version": 3
   },
   "file_extension": ".py",
   "mimetype": "text/x-python",
   "name": "python",
   "nbconvert_exporter": "python",
   "pygments_lexer": "ipython3",
   "version": "3.6.8"
  }
 },
 "nbformat": 4,
 "nbformat_minor": 2
}
