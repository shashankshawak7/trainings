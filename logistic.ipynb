{
 "cells": [
  {
   "cell_type": "code",
   "execution_count": 120,
   "metadata": {},
   "outputs": [],
   "source": [
    "from sklearn import datasets\n",
    "import numpy as np\n",
    "iris = datasets.load_iris()\n",
    "x=iris.data\n",
    "y=iris.target"
   ]
  },
  {
   "cell_type": "code",
   "execution_count": 121,
   "metadata": {},
   "outputs": [],
   "source": [
    "non_versiculor_label=[0 for i in range(100)]"
   ]
  },
  {
   "cell_type": "code",
   "execution_count": 122,
   "metadata": {},
   "outputs": [],
   "source": [
    "versiculor_label=[1 for i in range(50)]"
   ]
  },
  {
   "cell_type": "code",
   "execution_count": 123,
   "metadata": {},
   "outputs": [],
   "source": [
    "y=np.concatenate([non_versiculor_label,versiculor_label])"
   ]
  },
  {
   "cell_type": "code",
   "execution_count": 124,
   "metadata": {},
   "outputs": [
    {
     "data": {
      "text/plain": [
       "array([0, 0, 0, 0, 0, 0, 0, 0, 0, 0, 0, 0, 0, 0, 0, 0, 0, 0, 0, 0, 0, 0,\n",
       "       0, 0, 0, 0, 0, 0, 0, 0, 0, 0, 0, 0, 0, 0, 0, 0, 0, 0, 0, 0, 0, 0,\n",
       "       0, 0, 0, 0, 0, 0, 0, 0, 0, 0, 0, 0, 0, 0, 0, 0, 0, 0, 0, 0, 0, 0,\n",
       "       0, 0, 0, 0, 0, 0, 0, 0, 0, 0, 0, 0, 0, 0, 0, 0, 0, 0, 0, 0, 0, 0,\n",
       "       0, 0, 0, 0, 0, 0, 0, 0, 0, 0, 0, 0, 1, 1, 1, 1, 1, 1, 1, 1, 1, 1,\n",
       "       1, 1, 1, 1, 1, 1, 1, 1, 1, 1, 1, 1, 1, 1, 1, 1, 1, 1, 1, 1, 1, 1,\n",
       "       1, 1, 1, 1, 1, 1, 1, 1, 1, 1, 1, 1, 1, 1, 1, 1, 1, 1])"
      ]
     },
     "execution_count": 124,
     "metadata": {},
     "output_type": "execute_result"
    }
   ],
   "source": [
    "y"
   ]
  },
  {
   "cell_type": "code",
   "execution_count": 125,
   "metadata": {},
   "outputs": [],
   "source": [
    "from sklearn.model_selection import train_test_split"
   ]
  },
  {
   "cell_type": "code",
   "execution_count": 126,
   "metadata": {},
   "outputs": [],
   "source": [
    " X_train, X_test, y_train, y_test = train_test_split(x, y, test_size=0.20, random_state=42)"
   ]
  },
  {
   "cell_type": "code",
   "execution_count": 127,
   "metadata": {},
   "outputs": [],
   "source": [
    "y_train=y_train.reshape(-1,1)\n",
    "y_test=y_train.reshape(-1,1)"
   ]
  },
  {
   "cell_type": "code",
   "execution_count": 128,
   "metadata": {},
   "outputs": [],
   "source": [
    "X_train=X_train[:,2:]\n",
    "X_test=X_test[:,2:]"
   ]
  },
  {
   "cell_type": "code",
   "execution_count": 129,
   "metadata": {},
   "outputs": [
    {
     "data": {
      "text/plain": [
       "array([[1. , 0.2],\n",
       "       [1.5, 0.4],\n",
       "       [4.4, 1.4],\n",
       "       [1.6, 0.2],\n",
       "       [1.3, 0.2],\n",
       "       [5. , 1.9],\n",
       "       [4.5, 1.5],\n",
       "       [1.5, 0.2],\n",
       "       [1.4, 0.2],\n",
       "       [1.5, 0.1],\n",
       "       [5.1, 1.9],\n",
       "       [4.5, 1.6],\n",
       "       [4.7, 1.5],\n",
       "       [1.3, 0.4],\n",
       "       [1.5, 0.2],\n",
       "       [3.7, 1. ],\n",
       "       [5.1, 1.5],\n",
       "       [5.5, 1.8],\n",
       "       [4.4, 1.4],\n",
       "       [6.1, 2.5],\n",
       "       [4.2, 1.3],\n",
       "       [6.6, 2.1],\n",
       "       [4.5, 1.5],\n",
       "       [1.4, 0.2],\n",
       "       [6.7, 2. ],\n",
       "       [4.1, 1. ],\n",
       "       [1.4, 0.2],\n",
       "       [1.3, 0.3],\n",
       "       [1.9, 0.4],\n",
       "       [3.5, 1. ],\n",
       "       [4.9, 1.8],\n",
       "       [1.9, 0.2],\n",
       "       [1.6, 0.2],\n",
       "       [1.7, 0.5],\n",
       "       [4.2, 1.3],\n",
       "       [1.5, 0.2],\n",
       "       [4.2, 1.2],\n",
       "       [6.7, 2.2],\n",
       "       [1.4, 0.2],\n",
       "       [4.3, 1.3],\n",
       "       [5. , 2. ],\n",
       "       [1.4, 0.2],\n",
       "       [4.8, 1.8],\n",
       "       [5.1, 1.9],\n",
       "       [4. , 1. ],\n",
       "       [4.5, 1.5],\n",
       "       [5.4, 2.3],\n",
       "       [4. , 1.3],\n",
       "       [1.7, 0.4],\n",
       "       [3.3, 1. ],\n",
       "       [5.3, 1.9],\n",
       "       [1.4, 0.2],\n",
       "       [1.2, 0.2],\n",
       "       [3.8, 1.1],\n",
       "       [5. , 1.7],\n",
       "       [1.5, 0.2],\n",
       "       [5.1, 2.4],\n",
       "       [1.5, 0.2],\n",
       "       [1.6, 0.6],\n",
       "       [4.8, 1.8],\n",
       "       [3. , 1.1],\n",
       "       [5.7, 2.3],\n",
       "       [5.1, 1.6],\n",
       "       [5.6, 1.4],\n",
       "       [6.1, 2.3],\n",
       "       [4. , 1.3],\n",
       "       [1.4, 0.2],\n",
       "       [1.1, 0.1],\n",
       "       [5. , 1.5],\n",
       "       [6. , 1.8],\n",
       "       [1.5, 0.2],\n",
       "       [1.4, 0.3],\n",
       "       [1.3, 0.2],\n",
       "       [4.9, 1.5],\n",
       "       [5.6, 2.4],\n",
       "       [1.4, 0.3],\n",
       "       [5.5, 2.1],\n",
       "       [6. , 2.5],\n",
       "       [1.3, 0.2],\n",
       "       [4.7, 1.4],\n",
       "       [4.6, 1.5],\n",
       "       [4.8, 1.8],\n",
       "       [4.7, 1.4],\n",
       "       [5.3, 2.3],\n",
       "       [1.6, 0.2],\n",
       "       [5.4, 2.1],\n",
       "       [4.2, 1.5],\n",
       "       [5.2, 2. ],\n",
       "       [3.5, 1. ],\n",
       "       [3.9, 1.4],\n",
       "       [4.6, 1.4],\n",
       "       [1.3, 0.3],\n",
       "       [4.6, 1.3],\n",
       "       [4.4, 1.2],\n",
       "       [1.5, 0.2],\n",
       "       [4.1, 1.3],\n",
       "       [6.3, 1.8],\n",
       "       [5.7, 2.1],\n",
       "       [1.5, 0.4],\n",
       "       [3.3, 1. ],\n",
       "       [5.7, 2.5],\n",
       "       [5.8, 1.6],\n",
       "       [1.4, 0.1],\n",
       "       [5.6, 2.4],\n",
       "       [1.4, 0.2],\n",
       "       [4.9, 1.5],\n",
       "       [6.1, 1.9],\n",
       "       [5.6, 1.8],\n",
       "       [4.1, 1.3],\n",
       "       [5.5, 1.8],\n",
       "       [4.4, 1.3],\n",
       "       [4.3, 1.3],\n",
       "       [4.9, 2. ],\n",
       "       [5.1, 1.8],\n",
       "       [1.7, 0.2],\n",
       "       [4. , 1.3],\n",
       "       [4.5, 1.7],\n",
       "       [1.2, 0.2],\n",
       "       [4. , 1.2],\n",
       "       [5.9, 2.1]])"
      ]
     },
     "execution_count": 129,
     "metadata": {},
     "output_type": "execute_result"
    }
   ],
   "source": [
    "X_train"
   ]
  },
  {
   "cell_type": "code",
   "execution_count": null,
   "metadata": {},
   "outputs": [],
   "source": []
  },
  {
   "cell_type": "code",
   "execution_count": null,
   "metadata": {},
   "outputs": [],
   "source": []
  },
  {
   "cell_type": "code",
   "execution_count": 182,
   "metadata": {},
   "outputs": [],
   "source": [
    "w=np.zeros((2,1))\n",
    "b=np.zeros((1,1))\n",
    "learning_rate=0.01"
   ]
  },
  {
   "cell_type": "code",
   "execution_count": 183,
   "metadata": {},
   "outputs": [
    {
     "data": {
      "text/plain": [
       "array([[0.],\n",
       "       [0.]])"
      ]
     },
     "execution_count": 183,
     "metadata": {},
     "output_type": "execute_result"
    }
   ],
   "source": [
    "w"
   ]
  },
  {
   "cell_type": "code",
   "execution_count": null,
   "metadata": {},
   "outputs": [],
   "source": []
  },
  {
   "cell_type": "code",
   "execution_count": null,
   "metadata": {},
   "outputs": [],
   "source": []
  },
  {
   "cell_type": "code",
   "execution_count": null,
   "metadata": {},
   "outputs": [],
   "source": []
  },
  {
   "cell_type": "code",
   "execution_count": 184,
   "metadata": {},
   "outputs": [],
   "source": [
    "def sigmoid(z):\n",
    "    return 1/(1+np.e**(-z))"
   ]
  },
  {
   "cell_type": "code",
   "execution_count": 185,
   "metadata": {},
   "outputs": [],
   "source": [
    "def logistic_loss(y,y_hat):\n",
    "    return -np.mean(y*np.log(y_hat)+(1-y)*np.log(1-y_hat))"
   ]
  },
  {
   "cell_type": "code",
   "execution_count": 186,
   "metadata": {},
   "outputs": [],
   "source": [
    "m=len(y_train)"
   ]
  },
  {
   "cell_type": "code",
   "execution_count": 187,
   "metadata": {},
   "outputs": [
    {
     "name": "stdout",
     "output_type": "stream",
     "text": [
      "0.6931471805599453\n",
      "0.4314980004584847\n"
     ]
    }
   ],
   "source": [
    "for epoch in range(150):\n",
    "    z=np.matmul(X_train,w)+b\n",
    "    A=sigmoid(z)\n",
    " \n",
    "    loss=logistic_loss(y_train,A)\n",
    "\n",
    "    dz=A-y_train\n",
    "    dw=1/m*np.matmul(X_train.T,dz)\n",
    "    db=np.sum(dz)\n",
    "    w=w-learning_rate*dw\n",
    "    b=b-learning_rate*db\n",
    "    if epoch%100==0:\n",
    "        print(loss)\n"
   ]
  },
  {
   "cell_type": "code",
   "execution_count": 188,
   "metadata": {},
   "outputs": [
    {
     "data": {
      "text/plain": [
       "array([[-2.96850012]])"
      ]
     },
     "execution_count": 188,
     "metadata": {},
     "output_type": "execute_result"
    }
   ],
   "source": [
    "b\n"
   ]
  },
  {
   "cell_type": "code",
   "execution_count": null,
   "metadata": {},
   "outputs": [],
   "source": []
  },
  {
   "cell_type": "code",
   "execution_count": null,
   "metadata": {},
   "outputs": [],
   "source": []
  },
  {
   "cell_type": "code",
   "execution_count": 189,
   "metadata": {},
   "outputs": [],
   "source": [
    "preds=[]\n",
    "for i in sigmoid(z):\n",
    "    if i>0.5:\n",
    "        preds.append(1)\n",
    "    else:\n",
    "        preds.append(0)"
   ]
  },
  {
   "cell_type": "code",
   "execution_count": 190,
   "metadata": {},
   "outputs": [
    {
     "data": {
      "text/plain": [
       "[0,\n",
       " 0,\n",
       " 0,\n",
       " 0,\n",
       " 0,\n",
       " 0,\n",
       " 0,\n",
       " 0,\n",
       " 0,\n",
       " 0,\n",
       " 0,\n",
       " 0,\n",
       " 0,\n",
       " 0,\n",
       " 0,\n",
       " 0,\n",
       " 0,\n",
       " 1,\n",
       " 0,\n",
       " 1,\n",
       " 0,\n",
       " 1,\n",
       " 0,\n",
       " 0,\n",
       " 1,\n",
       " 0,\n",
       " 0,\n",
       " 0,\n",
       " 0,\n",
       " 0,\n",
       " 0,\n",
       " 0,\n",
       " 0,\n",
       " 0,\n",
       " 0,\n",
       " 0,\n",
       " 0,\n",
       " 1,\n",
       " 0,\n",
       " 0,\n",
       " 0,\n",
       " 0,\n",
       " 0,\n",
       " 0,\n",
       " 0,\n",
       " 0,\n",
       " 1,\n",
       " 0,\n",
       " 0,\n",
       " 0,\n",
       " 1,\n",
       " 0,\n",
       " 0,\n",
       " 0,\n",
       " 0,\n",
       " 0,\n",
       " 1,\n",
       " 0,\n",
       " 0,\n",
       " 0,\n",
       " 0,\n",
       " 1,\n",
       " 0,\n",
       " 1,\n",
       " 1,\n",
       " 0,\n",
       " 0,\n",
       " 0,\n",
       " 0,\n",
       " 1,\n",
       " 0,\n",
       " 0,\n",
       " 0,\n",
       " 0,\n",
       " 1,\n",
       " 0,\n",
       " 1,\n",
       " 1,\n",
       " 0,\n",
       " 0,\n",
       " 0,\n",
       " 0,\n",
       " 0,\n",
       " 1,\n",
       " 0,\n",
       " 1,\n",
       " 0,\n",
       " 1,\n",
       " 0,\n",
       " 0,\n",
       " 0,\n",
       " 0,\n",
       " 0,\n",
       " 0,\n",
       " 0,\n",
       " 0,\n",
       " 1,\n",
       " 1,\n",
       " 0,\n",
       " 0,\n",
       " 1,\n",
       " 1,\n",
       " 0,\n",
       " 1,\n",
       " 0,\n",
       " 0,\n",
       " 1,\n",
       " 1,\n",
       " 0,\n",
       " 1,\n",
       " 0,\n",
       " 0,\n",
       " 0,\n",
       " 0,\n",
       " 0,\n",
       " 0,\n",
       " 0,\n",
       " 0,\n",
       " 0,\n",
       " 1]"
      ]
     },
     "execution_count": 190,
     "metadata": {},
     "output_type": "execute_result"
    }
   ],
   "source": [
    "preds"
   ]
  },
  {
   "cell_type": "code",
   "execution_count": null,
   "metadata": {},
   "outputs": [],
   "source": []
  },
  {
   "cell_type": "code",
   "execution_count": 191,
   "metadata": {},
   "outputs": [],
   "source": [
    "from sklearn.metrics import f1_score"
   ]
  },
  {
   "cell_type": "code",
   "execution_count": 192,
   "metadata": {},
   "outputs": [
    {
     "data": {
      "text/plain": [
       "0.8181818181818181"
      ]
     },
     "execution_count": 192,
     "metadata": {},
     "output_type": "execute_result"
    }
   ],
   "source": [
    "f1_score(preds,y_train)"
   ]
  },
  {
   "cell_type": "code",
   "execution_count": 179,
   "metadata": {},
   "outputs": [],
   "source": [
    "import  matplotlib.pyplot  as plt"
   ]
  },
  {
   "cell_type": "code",
   "execution_count": 180,
   "metadata": {},
   "outputs": [
    {
     "data": {
      "text/plain": [
       "(-1, 3)"
      ]
     },
     "execution_count": 180,
     "metadata": {},
     "output_type": "execute_result"
    },
    {
     "data": {
      "image/png": "[encoded data removed]",
      "text/plain": [
       "<Figure size 432x288 with 1 Axes>"
      ]
     },
     "metadata": {
      "needs_background": "light"
     },
     "output_type": "display_data"
    }
   ],
   "source": [
    "plt.scatter(X_train[:,0],X_train[:,1],c=y_train.ravel())\n",
    "ax=plt.gca()\n",
    "xvals=np.array(ax.get_xlim()).reshape(-1,1)\n",
    "yvals=-(xvals*w[0][0]+b)/w[1][0]\n",
    "plt.plot(xvals,yvals)\n",
    "plt.ylim(-1,3)"
   ]
  },
  {
   "cell_type": "code",
   "execution_count": null,
   "metadata": {},
   "outputs": [],
   "source": []
  },
  {
   "cell_type": "code",
   "execution_count": null,
   "metadata": {},
   "outputs": [],
   "source": []
  }
 ],
 "metadata": {
  "kernelspec": {
   "display_name": "Python 3",
   "language": "python",
   "name": "python3"
  },
  "language_info": {
   "codemirror_mode": {
    "name": "ipython",
    "version": 3
   },
   "file_extension": ".py",
   "mimetype": "text/x-python",
   "name": "python",
   "nbconvert_exporter": "python",
   "pygments_lexer": "ipython3",
   "version": "3.6.8"
  }
 },
 "nbformat": 4,
 "nbformat_minor": 2
}
