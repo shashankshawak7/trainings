{
 "cells": [
  {
   "cell_type": "code",
   "execution_count": 41,
   "metadata": {},
   "outputs": [],
   "source": [
    "import numpy as np\n",
    "#we are takin a list as input\n",
    "class Linearregressor:\n",
    "    def __init__(self,dfx,dfy):\n",
    "        self.dfx=dfx\n",
    "        self.dfy=dfy\n",
    "        self.i=0\n",
    "        self.emptylist=[]\n",
    "        self.empty1list=[]\n",
    "        self.lists=[self.dfx,self.dfy]\n",
    "    def givedifflist(self):\n",
    "        for i in range(len(self.lists[0])-1):\n",
    "            value=self.lists[0][i+1]-self.lists[0][i]\n",
    "            self.emptylist.append(value)\n",
    "            self.xarray=np.array(self.emptylist)\n",
    "            value=self.lists[1][i+1]-self.lists[1][i]\n",
    "            self.empty1list.append(value)\n",
    "            self.yarray=np.array(self.empty1list)\n",
    "            m=self.yarray/self.xarray\n",
    "        self.m=np.mean(np.array(m))\n",
    "    def predictor(self,dfx):\n",
    "        y=list(map(lambda x:self.m*x,dfx))\n",
    "        self.y=y\n",
    "        print(y)\n",
    "    def score(self,dfx,dfy):\n",
    "        y=predictor(dfx)\n",
    "        "
   ]
  },
  {
   "cell_type": "code",
   "execution_count": 42,
   "metadata": {},
   "outputs": [],
   "source": [
    "dfx=[1,2,3,4,5]\n",
    "dfy=[2,4,6,8,10]"
   ]
  },
  {
   "cell_type": "code",
   "execution_count": 43,
   "metadata": {},
   "outputs": [],
   "source": [
    "model=Linearregressor(dfx,dfy)"
   ]
  },
  {
   "cell_type": "code",
   "execution_count": 44,
   "metadata": {},
   "outputs": [],
   "source": [
    "model.givedifflist()"
   ]
  },
  {
   "cell_type": "code",
   "execution_count": 45,
   "metadata": {},
   "outputs": [
    {
     "name": "stdout",
     "output_type": "stream",
     "text": [
      "[20.0, 40.0, 60.0, 80.0, 30.0]\n"
     ]
    }
   ],
   "source": [
    "model.predictor([10,20,30,40,15])"
   ]
  },
  {
   "cell_type": "code",
   "execution_count": null,
   "metadata": {},
   "outputs": [],
   "source": []
  },
  {
   "cell_type": "code",
   "execution_count": null,
   "metadata": {},
   "outputs": [],
   "source": []
  },
  {
   "cell_type": "code",
   "execution_count": null,
   "metadata": {},
   "outputs": [],
   "source": []
  }
 ],
 "metadata": {
  "kernelspec": {
   "display_name": "Python 3",
   "language": "python",
   "name": "python3"
  },
  "language_info": {
   "codemirror_mode": {
    "name": "ipython",
    "version": 3
   },
   "file_extension": ".py",
   "mimetype": "text/x-python",
   "name": "python",
   "nbconvert_exporter": "python",
   "pygments_lexer": "ipython3",
   "version": "3.6.7"
  }
 },
 "nbformat": 4,
 "nbformat_minor": 2
}
